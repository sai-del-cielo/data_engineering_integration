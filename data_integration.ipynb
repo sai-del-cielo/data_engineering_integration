{
 "cells": [
  {
   "cell_type": "code",
   "execution_count": 99,
   "metadata": {},
   "outputs": [],
   "source": [
    "\n",
    "import pandas as pd\n",
    "\n",
    "census_raw = pd.read_csv('acs2017_census_tract_data.csv')\n",
    "covid_raw = pd.read_csv('COVID_county_data.csv')"
   ]
  },
  {
   "cell_type": "code",
   "execution_count": 100,
   "metadata": {},
   "outputs": [],
   "source": [
    "\n",
    "\n",
    "\n",
    "census_raw['Name'] = census_raw['County'].apply(lambda x: x.replace(' County', ''))\n",
    "\n",
    "census_raw['Mean_poverty'] = census_raw.groupby(['State', 'County'])['Poverty'].transform('mean')\n",
    "census_raw['Population'] = census_raw.groupby(['State', 'County'])['TotalPop'].transform('sum')\n",
    "census_raw['PerCapitaIncome'] = census_raw.groupby(['State', 'County'])['IncomePerCap'].transform('mean')\n",
    "\n",
    "census_raw = census_raw.drop_duplicates(subset=['State', 'County'], keep='first')\n",
    "\n",
    "County_Info = pd.DataFrame()\n",
    "County_Info = County_Info.assign(\n",
    "    Name=census_raw.Name, \n",
    "    State=census_raw.State,\n",
    "    Population = census_raw.Population,\n",
    "    Poverty=census_raw.Mean_poverty,\n",
    "    PerCapitalIncome = census_raw.PerCapitaIncome)\n",
    "\n",
    "\n",
    "County_Info['ID'] = County_Info.groupby('Name').ngroup()\n"
   ]
  },
  {
   "cell_type": "code",
   "execution_count": 101,
   "metadata": {},
   "outputs": [
    {
     "name": "stdout",
     "output_type": "stream",
     "text": [
      "          Name     State  Population   Poverty  PerCapitalIncome    ID\n",
      "68452  Loudoun  Virginia      374558  3.884375      50391.015625  1048\n",
      "             Name   State  Population    Poverty  PerCapitalIncome    ID\n",
      "55223  Washington  Oregon      572071  10.446154      34970.817308  1851\n",
      "         Name     State  Population    Poverty  PerCapitalIncome   ID\n",
      "27623  Harlan  Kentucky       27548  33.318182      16010.363636  764\n",
      "          Name   State  Population    Poverty  PerCapitalIncome    ID\n",
      "54928  Malheur  Oregon       30421  24.414286      17966.428571  1080\n",
      "             Name       State  Population    Poverty  PerCapitalIncome    ID\n",
      "4731  Los Angeles  California    10105722  17.323803      31389.413867  1046\n",
      "         Name  State  Population  Poverty  PerCapitalIncome    ID\n",
      "65203  Loving  Texas          74     17.1           35530.0  1052\n"
     ]
    }
   ],
   "source": [
    "print(County_Info[(County_Info['State'] == 'Virginia') & (County_Info['Name'] == 'Loudoun')])\n",
    "print(County_Info[(County_Info['State'] == 'Oregon') & (County_Info['Name'] == 'Washington')])\n",
    "print(County_Info[(County_Info['State'] == 'Kentucky') & (County_Info['Name'] == 'Harlan')])\n",
    "print(County_Info[(County_Info['State'] == 'Oregon') & (County_Info['Name'] == 'Malheur')])\n",
    "print(County_Info[County_Info.Population == County_Info.Population.max()])\n",
    "print(County_Info[County_Info.Population == County_Info.Population.min()])"
   ]
  },
  {
   "cell_type": "code",
   "execution_count": 75,
   "metadata": {},
   "outputs": [],
   "source": [
    "'''\n",
    "Next, figure out why 'fips' is a column name in Variable Explorer but when I try to print its type it says fips does not exist\n",
    "'''\n",
    "\n",
    "COVID_monthly = pd.DataFrame()"
   ]
  }
 ],
 "metadata": {
  "interpreter": {
   "hash": "3dc21c30b46178a14502002b1fb42fc88b1a5518f70c6728391f6b69616a0440"
  },
  "kernelspec": {
   "display_name": "Python 3.9.7 ('ML')",
   "language": "python",
   "name": "python3"
  },
  "language_info": {
   "codemirror_mode": {
    "name": "ipython",
    "version": 3
   },
   "file_extension": ".py",
   "mimetype": "text/x-python",
   "name": "python",
   "nbconvert_exporter": "python",
   "pygments_lexer": "ipython3",
   "version": "3.9.7"
  },
  "orig_nbformat": 4
 },
 "nbformat": 4,
 "nbformat_minor": 2
}
